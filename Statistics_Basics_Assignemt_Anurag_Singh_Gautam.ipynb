{
  "nbformat": 4,
  "nbformat_minor": 0,
  "metadata": {
    "colab": {
      "provenance": []
    },
    "kernelspec": {
      "name": "python3",
      "display_name": "Python 3"
    },
    "language_info": {
      "name": "python"
    }
  },
  "cells": [
    {
      "cell_type": "markdown",
      "source": [
        "# **Practice Questions:**\n",
        "\n",
        "___\n",
        "___\n",
        "  **1. Explain the different types of data (qualitative and quantitative) and provide examples of each. Discuss nominal, ordinal, interval, and ratio scales.**\n",
        "\n",
        "Ans.\n",
        "\n",
        "  **Qualitative (Categorical):**\n",
        "  \n",
        "  Non-numeric data used to describe characteristics or categories.\n",
        "\n",
        "        \n",
        "  Nominal Scale: Categories without any specific order.\n",
        "\n",
        "  Example: Eye color (blue, green, brown).\n",
        "\n",
        "  Ordinal Scale: Categories with a specific order but without fixed intervals between categories.\n",
        "\n",
        "  Example: Education level (high school, bachelor's, master's).\n",
        "\n",
        "__\n",
        "\n",
        "  **Quantitative (Numerical):**\n",
        "  \n",
        "  Numeric data that can be measured or counted.\n",
        "  \n",
        "  Interval Scale: Numeric values with meaningful differences but no true zero point.\n",
        "\n",
        "  Example: Temperature in Celsius.\n",
        "\n",
        "  Ratio Scale: Numeric values with meaningful differences and a true zero point.\n",
        "\n",
        "  Example: Weight (in kg), height (in meters).\n",
        "___\n",
        "  ___\n",
        "\n",
        "  **2. What are the measures of central tendency, and when should you use each? Discuss the mean, median, and mode with examples and situations where each is appropriate.**\n",
        "\n",
        "  Ans.\n",
        "  \n",
        "  **Mean:** The average of a dataset. Used when data is continuous and symmetric.\n",
        "  Example: Average salary of employees in a company.\n",
        "\n",
        "  **Median:** The middle value of a dataset when arranged in order. Used when data has outliers or is skewed.\n",
        "  Example: Median household income in a city.\n",
        "\n",
        "  **Mode:** The most frequent value in a dataset. Used for categorical data or data with repeating values.\n",
        "  Example: Most common shoe size in a store.\n",
        "  ___\n",
        "  ___"
      ],
      "metadata": {
        "id": "V1RycfURCBKX"
      }
    },
    {
      "cell_type": "markdown",
      "source": [
        "**3. Explain the concept of dispersion. How do variance and standard deviation measure the spread of data?**\n",
        "\n",
        "Ans.\n",
        "\n",
        "  **Dispersion:** Refers to the spread or variability of a dataset.\n",
        "\n",
        "**Variance:** Measures the average of the squared differences from the mean.\n",
        "    Formula:\n",
        "    Variance=∑(xi−μ)^2/n\n",
        "\n",
        "  **Standard Deviation:** The square root of variance, indicating how spread out data points are around the mean.\n",
        "    Formula:\n",
        "    Standard Deviation=root(Variance)\n"
      ],
      "metadata": {
        "id": "SyBjyKKbDLMs"
      }
    },
    {
      "cell_type": "code",
      "source": [
        "import numpy as np\n",
        "data = [10, 12, 23, 23, 16, 23, 21, 16]\n",
        "variance = np.var(data)\n",
        "std_deviation = np.std(data)\n",
        "variance, std_deviation\n",
        "print(variance, std_deviation)"
      ],
      "metadata": {
        "colab": {
          "base_uri": "https://localhost:8080/"
        },
        "id": "zyDsq8nkDt0m",
        "outputId": "78561186-f2d8-40f3-de1f-ccb5c560d5bc"
      },
      "execution_count": 1,
      "outputs": [
        {
          "output_type": "stream",
          "name": "stdout",
          "text": [
            "24.0 4.898979485566356\n"
          ]
        }
      ]
    },
    {
      "cell_type": "markdown",
      "source": [
        "___\n",
        "___\n",
        "\n",
        "  **4. What is a box plot, and what can it tell you about the distribution of data?**\n",
        "\n",
        "  Ans.\n",
        "  \n",
        "  **Box Plot:**\n",
        "  \n",
        "  A graphical representation of data showing the minimum, first quartile (Q1), median (Q2), third quartile (Q3), and maximum. It helps to visualize the spread and identify potential outliers in a dataset.\n",
        "  ___\n",
        "  ___"
      ],
      "metadata": {
        "id": "n2oV1sjrD3qZ"
      }
    },
    {
      "cell_type": "markdown",
      "source": [
        "  **5. Discuss the role of random sampling in making inferences about populations.**\n",
        "\n",
        "Ans.\n",
        "\n",
        "\n",
        "  **Random Sampling:**\n",
        "  \n",
        "  Selecting a subset of individuals from a population such that every individual has an equal chance of being selected. It ensures that the sample is representative, which allows researchers to generalize findings to the entire population and minimize bias."
      ],
      "metadata": {
        "id": "I9mVQ0f6EFE7"
      }
    },
    {
      "cell_type": "markdown",
      "source": [
        "___\n",
        "___\n",
        "  **6. Explain the concept of skewness and its types. How does skewness affect the interpretation of data?**\n",
        "\n",
        "  Ans.\n",
        "  \n",
        "  **Skewness:**\n",
        "  \n",
        "   Refers to the asymmetry of a distribution.\n",
        "\n",
        " **Positive Skew (Right-Skewed):** The tail on the right side is longer. Most values are concentrated on the left.\n",
        "\n",
        "  **Negative Skew (Left-Skewed):** The tail on the left side is longer. Most values are concentrated on the right.\n",
        "\n",
        "  Skewness affects measures of central tendency. For example, in a positively skewed distribution, the mean is greater than the median."
      ],
      "metadata": {
        "id": "YOSHn6TtEOTC"
      }
    },
    {
      "cell_type": "markdown",
      "source": [
        "___\n",
        "___\n",
        "\n",
        "  **7. What is the interquartile range (IQR), and how is it used to detect outliers?**\n",
        "\n",
        "  Ans.\n",
        "\n",
        "  **IQR:**\n",
        "  \n",
        "  The range between the first quartile (Q1) and the third quartile (Q3).\n",
        "\n",
        "  Formula:\n",
        "  IQR=Q3−Q1IQR=Q3−Q1\n",
        "\n",
        "___\n",
        "\n",
        "  **Outlier Detection:**\n",
        "  \n",
        "  Data points that are below Q1−1.5×IQRQ1−1.5×IQR or above Q3+1.5×IQRQ3+1.5×IQR are considered outliers.\n"
      ],
      "metadata": {
        "id": "evA7ErXqEhTF"
      }
    },
    {
      "cell_type": "code",
      "source": [
        "import numpy as np\n",
        "data = [10, 12, 23, 23, 16, 23, 21, 16]\n",
        "q1 = np.percentile(data, 25)\n",
        "q3 = np.percentile(data, 75)\n",
        "iqr = q3 - q1\n",
        "lower_bound = q1 - 1.5 * iqr\n",
        "upper_bound = q3 + 1.5 * iqr\n",
        "iqr, lower_bound, upper_bound\n",
        "print(iqr, lower_bound, upper_bound)"
      ],
      "metadata": {
        "colab": {
          "base_uri": "https://localhost:8080/"
        },
        "id": "jDY8tOjXE5ke",
        "outputId": "49ea7399-1779-480b-afab-53db7597a4c9"
      },
      "execution_count": 2,
      "outputs": [
        {
          "output_type": "stream",
          "name": "stdout",
          "text": [
            "8.0 3.0 35.0\n"
          ]
        }
      ]
    },
    {
      "cell_type": "markdown",
      "source": [
        "___\n",
        "___\n",
        "\n",
        "**8. Discuss the conditions under which the binomial distribution is used.**\n",
        "\n",
        "Ans.\n",
        "\n",
        "The binomial distribution is used when:\n",
        "\n",
        "  - There are a fixed number of trials.\n",
        "\n",
        "  - Each trial has two possible outcomes (success or failure).\n",
        "\n",
        "  -The probability of success is the same for each trial.\n",
        "    The trials are independent.\n",
        "\n",
        "Example:\n",
        "\n",
        "Tossing a coin 10 times to count the number of heads.\n",
        "___\n",
        "___"
      ],
      "metadata": {
        "id": "Okw3MNBjE-LK"
      }
    },
    {
      "cell_type": "markdown",
      "source": [
        "**9. Explain the properties of the normal distribution and the empirical rule (68-95-99.7 rule).**\n",
        "\n",
        "Ans.\n",
        "\n",
        "\n",
        "**Normal Distribution:**\n",
        "\n",
        "Symmetrical, bell-shaped distribution where the mean, median, and mode are equal.\n",
        "\n",
        "**Empirical Rule (68-95-99.7 Rule):**\n",
        "\n",
        "\n",
        "68% of the data falls within 1 standard deviation from the mean.\n",
        "\n",
        "\n",
        "95% falls within 2 standard deviations.\n",
        "\n",
        "\n",
        "99.7% falls within 3 standard deviations.\n",
        "___\n",
        "___"
      ],
      "metadata": {
        "id": "NoxIU5ebFe5m"
      }
    },
    {
      "cell_type": "markdown",
      "source": [
        "**10. Provide a real-life example of a Poisson process and calculate the probability for a specific event.**\n",
        "\n",
        "Ans.\n",
        "\n",
        "\n",
        "**Poisson Process:**\n",
        "\n",
        "Models the number of times an event occurs in a fixed interval of time or space.\n",
        "\n",
        "Example:\n",
        "\n",
        "A call center receives 5 calls per hour on average. What is the probability that the center will receive 3 calls in an hour?\n",
        "\n",
        "Formula:\n",
        "\n",
        "P(x;λ)=λ^x* e^−λ/x!\n",
        "\n",
        "For λ=5,x=3:"
      ],
      "metadata": {
        "id": "dMb80w1PFud2"
      }
    },
    {
      "cell_type": "code",
      "source": [
        "from scipy.stats import poisson\n",
        "probability = poisson.pmf(3, 5)\n",
        "probability\n"
      ],
      "metadata": {
        "colab": {
          "base_uri": "https://localhost:8080/"
        },
        "id": "doMLup2yGP_S",
        "outputId": "2219def4-46d2-41b8-ff4a-c538c8a64fc7"
      },
      "execution_count": 3,
      "outputs": [
        {
          "output_type": "execute_result",
          "data": {
            "text/plain": [
              "0.1403738958142805"
            ]
          },
          "metadata": {},
          "execution_count": 3
        }
      ]
    },
    {
      "cell_type": "markdown",
      "source": [
        "___\n",
        "___\n",
        "**11. Explain what a random variable is and differentiate between discrete and continuous random variables.**\n",
        "\n",
        "Ans.\n",
        "\n",
        "**Random Variable:** A variable that takes on different values based on the outcome of a random event.\n",
        "\n",
        "**Discrete Random Variable:** Takes on countable values.\n",
        "Example: Number of heads when flipping a coin three times.\n",
        "\n",
        "**Continuous Random Variable:** Takes on an infinite number of values within a range.\n",
        "Example: The height of individuals.\n",
        "\n",
        "___\n",
        "___"
      ],
      "metadata": {
        "id": "38QqT_hoGVhy"
      }
    },
    {
      "cell_type": "markdown",
      "source": [
        "**12. Provide an example dataset, calculate both covariance and correlation, and interpret the results.**\n",
        "\n",
        "Example Dataset:"
      ],
      "metadata": {
        "id": "IzXxiXRmGkF-"
      }
    },
    {
      "cell_type": "code",
      "source": [
        "import numpy as np\n",
        "x = [10, 20, 30, 40, 50]\n",
        "y = [12, 24, 33, 48, 55]\n",
        "\n",
        "covariance = np.cov(x, y)[0][1]\n",
        "correlation = np.corrcoef(x, y)[0][1]\n",
        "covariance, correlation\n"
      ],
      "metadata": {
        "colab": {
          "base_uri": "https://localhost:8080/"
        },
        "id": "Q0c0wFSAGpJX",
        "outputId": "b614a868-1265-4bb8-cc65-d94e114ca63e"
      },
      "execution_count": 4,
      "outputs": [
        {
          "output_type": "execute_result",
          "data": {
            "text/plain": [
              "(275.0, 0.9954037839433629)"
            ]
          },
          "metadata": {},
          "execution_count": 4
        }
      ]
    },
    {
      "cell_type": "markdown",
      "source": [
        "**Covariance:** Measures the direction of the relationship between two variables.\n",
        "\n",
        "**Correlation:** Measures both the direction and strength of the relationship (between -1 and 1).\n",
        "___\n",
        "___"
      ],
      "metadata": {
        "id": "ujaRsUdnGsKr"
      }
    }
  ]
}